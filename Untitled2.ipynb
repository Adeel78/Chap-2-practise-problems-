{
 "cells": [
  {
   "cell_type": "markdown",
   "metadata": {},
   "source": [
    "# Chap 2 (practise problems)"
   ]
  },
  {
   "cell_type": "code",
   "execution_count": 1,
   "metadata": {},
   "outputs": [
    {
     "name": "stdout",
     "output_type": "stream",
     "text": [
      "10\n",
      "6\n",
      "2.5\n",
      "2.0\n",
      "7\n",
      "12\n",
      "11.440333333333333\n",
      "1.4403333333333332\n",
      "4\n",
      "2\n"
     ]
    }
   ],
   "source": [
    "print(3+7)\n",
    "print(3*2)\n",
    "print(5/2)\n",
    "print(4/2)\n",
    "print(2*3+1)\n",
    "print((3+1)*3)\n",
    "print(4.321/3+10)\n",
    "print(4.321/(3+0))\n",
    "print(14//3)\n",
    "print(14%3)"
   ]
  },
  {
   "cell_type": "code",
   "execution_count": 2,
   "metadata": {},
   "outputs": [
    {
     "name": "stdout",
     "output_type": "stream",
     "text": [
      "4.01\n",
      "10\n",
      "-2\n",
      "6\n",
      "-2\n",
      "20\n"
     ]
    }
   ],
   "source": [
    "print(abs(-4.010))\n",
    "print(abs(-10))\n",
    "print(min(6,-2))\n",
    "print(max(6,-2))\n",
    "print(min(-2, 2))\n",
    "print(max(2.06, 5, 20))"
   ]
  },
  {
   "cell_type": "code",
   "execution_count": 3,
   "metadata": {},
   "outputs": [
    {
     "name": "stdout",
     "output_type": "stream",
     "text": [
      "15\n",
      "Average age: 73\n",
      "5\n",
      "38\n",
      "1024\n",
      "3\n",
      "29.99\n"
     ]
    }
   ],
   "source": [
    "print(1+2+3+4+5)\n",
    "#(B)\n",
    "print(\"Average age:\", 23+19+31)\n",
    "#C\n",
    "print(403//73)\n",
    "#D\n",
    "print(403%73)\n",
    "#E\n",
    "print(2**10)\n",
    "#F\n",
    "print(abs(54-57))\n",
    "#G\n",
    "print(min(34.99, 29.99,31.50))"
   ]
  },
  {
   "cell_type": "code",
   "execution_count": 4,
   "metadata": {},
   "outputs": [
    {
     "name": "stdout",
     "output_type": "stream",
     "text": [
      "True\n",
      "False\n",
      "True\n",
      "True\n",
      "True\n",
      "True\n",
      "True\n"
     ]
    }
   ],
   "source": [
    "print(2<3)\n",
    "print(2>3)\n",
    "print(5-1 > 2+1)\n",
    "print(3==3)\n",
    "print(4+4==5+3)\n",
    "print(3!=4)\n",
    "print(3<=4)"
   ]
  },
  {
   "cell_type": "code",
   "execution_count": 6,
   "metadata": {},
   "outputs": [
    {
     "name": "stdout",
     "output_type": "stream",
     "text": [
      "False\n",
      "True\n",
      "True\n",
      "True\n",
      "0\n",
      "31 is even\n",
      "True\n"
     ]
    }
   ],
   "source": [
    "print(2+2<4)\n",
    "#B\n",
    "print(7//3 == 1+1)\n",
    "#C\n",
    "print(3**2+4**2 ==25)\n",
    "#D\n",
    "print(6+4+3>12)\n",
    "#E\n",
    "print(1387%19)\n",
    "#F\n",
    "if 31 / 2 != 0:\n",
    "    print('31 is even')\n",
    "#G\n",
    "print(min(34.99, 29.95,31.50) < 30.00)"
   ]
  },
  {
   "cell_type": "code",
   "execution_count": 7,
   "metadata": {},
   "outputs": [
    {
     "data": {
      "text/plain": [
       "25"
      ]
     },
     "execution_count": 7,
     "metadata": {},
     "output_type": "execute_result"
    }
   ],
   "source": [
    "a=3\n",
    "b=4\n",
    "c= a*a + b*b\n",
    "c"
   ]
  },
  {
   "cell_type": "code",
   "execution_count": 8,
   "metadata": {},
   "outputs": [
    {
     "name": "stdout",
     "output_type": "stream",
     "text": [
      "AAA\n",
      "------------------------------\n",
      "False\n",
      "True\n"
     ]
    }
   ],
   "source": [
    "print(3*'A')\n",
    "print(30 * '-')\n",
    "s = 'Hi'\n",
    "print('h' in s)\n",
    "print('H' in s)"
   ]
  },
  {
   "cell_type": "code",
   "execution_count": 9,
   "metadata": {},
   "outputs": [
    {
     "name": "stdout",
     "output_type": "stream",
     "text": [
      " ant  bat  cod\n",
      " ant ant ant ant ant ant ant ant ant ant\n",
      " ant  bat bat  cod cod cod\n",
      " ant  bat  ant  bat  ant  bat  ant  bat\n",
      " bat bat cod bat bat cod bat bat cod\n"
     ]
    }
   ],
   "source": [
    "s1= ' ant'\n",
    "s2= ' bat'\n",
    "s3= ' cod'\n",
    "print(s1 + ' ' +s2+ ' ' + s3)\n",
    "print(s1*10)\n",
    "print(s1 , s2*2, s3*3) \n",
    "print(s1, s2,s1,s2,s1,s2,s1,s2)\n",
    "print(3 * (2 * s2 + s3 + ''))"
   ]
  },
  {
   "cell_type": "code",
   "execution_count": 10,
   "metadata": {},
   "outputs": [
    {
     "name": "stdout",
     "output_type": "stream",
     "text": [
      "0\n",
      "1\n",
      "7\n",
      "8\n",
      "9\n"
     ]
    }
   ],
   "source": [
    "s = '0123456789'\n",
    "print(s[0])\n",
    "print(s[1])\n",
    "print(s[7])\n",
    "print(s[8])\n",
    "print(s[-1])"
   ]
  },
  {
   "cell_type": "code",
   "execution_count": 11,
   "metadata": {},
   "outputs": [
    {
     "name": "stdout",
     "output_type": "stream",
     "text": [
      "7\n",
      "('Mo', 'Tu', 'We', 'Th', 'Fr', 'Sa', 'Su', 'Mo', 'Tu', 'We', 'Th', 'Fr', 'Sa', 'Su')\n"
     ]
    }
   ],
   "source": [
    "days = ('Mo', 'Tu', 'We', 'Th')\n",
    "week = days + ('Fr', 'Sa', 'Su')\n",
    "print(len(week))\n",
    "print(week*2)"
   ]
  },
  {
   "cell_type": "code",
   "execution_count": 12,
   "metadata": {},
   "outputs": [
    {
     "name": "stdout",
     "output_type": "stream",
     "text": [
      "We\n",
      "Mo\n"
     ]
    }
   ],
   "source": [
    "print(week[2])\n",
    "print(days[0])"
   ]
  },
  {
   "cell_type": "code",
   "execution_count": 13,
   "metadata": {},
   "outputs": [
    {
     "name": "stdout",
     "output_type": "stream",
     "text": [
      "[2, 4, 5, 8]\n"
     ]
    }
   ],
   "source": [
    "week.count('Su')\n",
    "lst= [4, 5, 8, 2]\n",
    "lst.sort()\n",
    "print(lst)"
   ]
  },
  {
   "cell_type": "code",
   "execution_count": 14,
   "metadata": {},
   "outputs": [
    {
     "name": "stdout",
     "output_type": "stream",
     "text": [
      "2\n",
      "[9, 7, 7, 10, 3, 9, 6, 6, 4]\n",
      "3\n",
      "[3, 4, 6, 6, 7, 7, 9, 9, 10]\n",
      "6.777777777777778\n"
     ]
    }
   ],
   "source": [
    "grades = [9,7,7,10,3,9,6,6,2]\n",
    "print(grades.count(7))\n",
    "(grades.remove(2)) , (grades.append(4))\n",
    "print(grades)\n",
    "print(min(grades))\n",
    "grades.sort()\n",
    "print(grades)\n",
    "print(sum(grades) / len(grades))"
   ]
  },
  {
   "cell_type": "code",
   "execution_count": 15,
   "metadata": {},
   "outputs": [
    {
     "name": "stdout",
     "output_type": "stream",
     "text": [
      "False\n",
      "False\n",
      "True\n",
      "18\n",
      "True\n"
     ]
    }
   ],
   "source": [
    "#Practice Program 2.7\n",
    "print(2+ 3 == 4 or a>=5)\n",
    "print(lst[1] * -3 < -10 == 0)\n",
    "print((lst[1] * -3 < -10) in [0, True])\n",
    "print( 2 * 3**2)\n",
    "print(4 / 2 in [1, 2, 3])"
   ]
  },
  {
   "cell_type": "code",
   "execution_count": 16,
   "metadata": {},
   "outputs": [
    {
     "name": "stdout",
     "output_type": "stream",
     "text": [
      "False\n",
      "18.0\n",
      "2\n",
      "True\n"
     ]
    }
   ],
   "source": [
    "print(bool(False+False))\n",
    "print(float(2 * 3**2.0))\n",
    "print(int(4 // 2 + 4 % 2))\n",
    "print(str(2 + 3 == 4 or 5 >= 5))"
   ]
  },
  {
   "cell_type": "code",
   "execution_count": null,
   "metadata": {},
   "outputs": [],
   "source": []
  }
 ],
 "metadata": {
  "kernelspec": {
   "display_name": "Python 3",
   "language": "python",
   "name": "python3"
  },
  "language_info": {
   "codemirror_mode": {
    "name": "ipython",
    "version": 3
   },
   "file_extension": ".py",
   "mimetype": "text/x-python",
   "name": "python",
   "nbconvert_exporter": "python",
   "pygments_lexer": "ipython3",
   "version": "3.7.3"
  }
 },
 "nbformat": 4,
 "nbformat_minor": 2
}
